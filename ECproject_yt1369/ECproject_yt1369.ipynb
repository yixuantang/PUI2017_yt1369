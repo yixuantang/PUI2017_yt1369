{
 "cells": [
  {
   "cell_type": "markdown",
   "metadata": {},
   "source": [
    "## Extra credit project\n",
    "### By Yixuan T\n",
    "### Dec 2017"
   ]
  },
  {
   "cell_type": "code",
   "execution_count": 475,
   "metadata": {
    "collapsed": true
   },
   "outputs": [],
   "source": [
    "import pandas as pd\n",
    "import savReaderWriter\n",
    "import numpy as np\n",
    "import pylab as pl\n",
    "import os\n",
    "import json\n",
    "import urllib\n",
    "import numpy as np\n",
    "import statsmodels.api as sm\n",
    "import statsmodels.formula.api as smf\n",
    "from sklearn import tree\n",
    "import scipy\n",
    "import scipy.stats\n",
    "from IPython.display import Image"
   ]
  },
  {
   "cell_type": "code",
   "execution_count": 476,
   "metadata": {},
   "outputs": [],
   "source": [
    "#spss data prepared by R\n",
    "wave5 = pd.read_csv('df.csv')"
   ]
  },
  {
   "cell_type": "code",
   "execution_count": 477,
   "metadata": {
    "scrolled": false
   },
   "outputs": [
    {
     "data": {
      "text/plain": [
       "(10274, 5756)"
      ]
     },
     "execution_count": 477,
     "metadata": {},
     "output_type": "execute_result"
    }
   ],
   "source": [
    "wave5.shape"
   ]
  },
  {
   "cell_type": "code",
   "execution_count": 478,
   "metadata": {},
   "outputs": [
    {
     "data": {
      "text/html": [
       "<div>\n",
       "<style>\n",
       "    .dataframe thead tr:only-child th {\n",
       "        text-align: right;\n",
       "    }\n",
       "\n",
       "    .dataframe thead th {\n",
       "        text-align: left;\n",
       "    }\n",
       "\n",
       "    .dataframe tbody tr th {\n",
       "        vertical-align: top;\n",
       "    }\n",
       "</style>\n",
       "<table border=\"1\" class=\"dataframe\">\n",
       "  <thead>\n",
       "    <tr style=\"text-align: right;\">\n",
       "      <th></th>\n",
       "      <th>idauniq</th>\n",
       "      <th>headldr</th>\n",
       "      <th>headlwa</th>\n",
       "      <th>headlba</th>\n",
       "      <th>headlea</th>\n",
       "      <th>headlbe</th>\n",
       "      <th>headlwc</th>\n",
       "      <th>headlma</th>\n",
       "      <th>headlda</th>\n",
       "      <th>headlpr</th>\n",
       "      <th>...</th>\n",
       "      <th>NClm</th>\n",
       "      <th>NCorrect</th>\n",
       "      <th>NMissed</th>\n",
       "      <th>NRowClm</th>\n",
       "      <th>cfmeind</th>\n",
       "      <th>nnmisrc</th>\n",
       "      <th>cfspeed</th>\n",
       "      <th>cfexind</th>\n",
       "      <th>cfind</th>\n",
       "      <th>cfaccur</th>\n",
       "    </tr>\n",
       "  </thead>\n",
       "  <tbody>\n",
       "    <tr>\n",
       "      <th>0</th>\n",
       "      <td>100001</td>\n",
       "      <td>Not mentioned</td>\n",
       "      <td>Not mentioned</td>\n",
       "      <td>Not mentioned</td>\n",
       "      <td>Not mentioned</td>\n",
       "      <td>Not mentioned</td>\n",
       "      <td>Not mentioned</td>\n",
       "      <td>Not mentioned</td>\n",
       "      <td>Not mentioned</td>\n",
       "      <td>Not mentioned</td>\n",
       "      <td>...</td>\n",
       "      <td>-1</td>\n",
       "      <td>-1</td>\n",
       "      <td>-1</td>\n",
       "      <td>-1</td>\n",
       "      <td>-1</td>\n",
       "      <td>Not applicable</td>\n",
       "      <td>Not applicable</td>\n",
       "      <td>-1</td>\n",
       "      <td>-1</td>\n",
       "      <td>-1.0</td>\n",
       "    </tr>\n",
       "    <tr>\n",
       "      <th>1</th>\n",
       "      <td>100005</td>\n",
       "      <td>Not mentioned</td>\n",
       "      <td>Not mentioned</td>\n",
       "      <td>Not mentioned</td>\n",
       "      <td>Not mentioned</td>\n",
       "      <td>Not mentioned</td>\n",
       "      <td>Not mentioned</td>\n",
       "      <td>Not mentioned</td>\n",
       "      <td>Not mentioned</td>\n",
       "      <td>Not mentioned</td>\n",
       "      <td>...</td>\n",
       "      <td>1</td>\n",
       "      <td>21</td>\n",
       "      <td>3</td>\n",
       "      <td>301</td>\n",
       "      <td>18</td>\n",
       "      <td>3 missed</td>\n",
       "      <td>300-324 items completed</td>\n",
       "      <td>18</td>\n",
       "      <td>36</td>\n",
       "      <td>87.5</td>\n",
       "    </tr>\n",
       "  </tbody>\n",
       "</table>\n",
       "<p>2 rows × 5756 columns</p>\n",
       "</div>"
      ],
      "text/plain": [
       "   idauniq        headldr        headlwa        headlba        headlea  \\\n",
       "0   100001  Not mentioned  Not mentioned  Not mentioned  Not mentioned   \n",
       "1   100005  Not mentioned  Not mentioned  Not mentioned  Not mentioned   \n",
       "\n",
       "         headlbe        headlwc        headlma        headlda        headlpr  \\\n",
       "0  Not mentioned  Not mentioned  Not mentioned  Not mentioned  Not mentioned   \n",
       "1  Not mentioned  Not mentioned  Not mentioned  Not mentioned  Not mentioned   \n",
       "\n",
       "    ...   NClm NCorrect NMissed NRowClm cfmeind         nnmisrc  \\\n",
       "0   ...     -1       -1      -1      -1      -1  Not applicable   \n",
       "1   ...      1       21       3     301      18        3 missed   \n",
       "\n",
       "                   cfspeed  cfexind  cfind cfaccur  \n",
       "0           Not applicable       -1     -1    -1.0  \n",
       "1  300-324 items completed       18     36    87.5  \n",
       "\n",
       "[2 rows x 5756 columns]"
      ]
     },
     "execution_count": 478,
     "metadata": {},
     "output_type": "execute_result"
    }
   ],
   "source": [
    "wave5.head(2)"
   ]
  },
  {
   "cell_type": "code",
   "execution_count": 479,
   "metadata": {
    "scrolled": true
   },
   "outputs": [
    {
     "data": {
      "text/plain": [
       "array(['Schedule Not Applicable', 'Every few months',\n",
       "       'Less than once a year or never', 'Once or twice a week',\n",
       "       'Once or twice a month', 'Not answered', 'Item not applicable',\n",
       "       'Once or twice a year', 'Three or more times a week'], dtype=object)"
      ]
     },
     "execution_count": 479,
     "metadata": {},
     "output_type": "execute_result"
    }
   ],
   "source": [
    "# Perceived discrimination variable scdtdre\tscdtdst\tscdtdcl\tscdtdha\tscdtddr\n",
    "wave5.scfami.unique()"
   ]
  },
  {
   "cell_type": "code",
   "execution_count": 27,
   "metadata": {
    "scrolled": true
   },
   "outputs": [
    {
     "data": {
      "text/plain": [
       "count    10274.000000\n",
       "mean      1918.050224\n",
       "std        221.478761\n",
       "min         -7.000000\n",
       "25%       1936.000000\n",
       "50%       1945.000000\n",
       "75%       1951.000000\n",
       "max       1984.000000\n",
       "Name: indobyr, dtype: float64"
      ]
     },
     "execution_count": 27,
     "metadata": {},
     "output_type": "execute_result"
    }
   ],
   "source": [
    "wave5.indobyr.describe()"
   ]
  },
  {
   "cell_type": "code",
   "execution_count": 480,
   "metadata": {
    "collapsed": true
   },
   "outputs": [],
   "source": [
    "# only select the useful column\n",
    "df = wave5[['indsex','indobyr','wpdes','iasinc','hehelf', 'scdtdre','scdtdst','scdtdcl','scdtdha','scdtddr',\n",
    "           'scdtd01','scdtd02','scdtd03','scdtd04','scdtd05','scdtd06','scdtd07','scdtd08','scdtd85']]"
   ]
  },
  {
   "cell_type": "code",
   "execution_count": 481,
   "metadata": {},
   "outputs": [
    {
     "data": {
      "text/html": [
       "<div>\n",
       "<style>\n",
       "    .dataframe thead tr:only-child th {\n",
       "        text-align: right;\n",
       "    }\n",
       "\n",
       "    .dataframe thead th {\n",
       "        text-align: left;\n",
       "    }\n",
       "\n",
       "    .dataframe tbody tr th {\n",
       "        vertical-align: top;\n",
       "    }\n",
       "</style>\n",
       "<table border=\"1\" class=\"dataframe\">\n",
       "  <thead>\n",
       "    <tr style=\"text-align: right;\">\n",
       "      <th></th>\n",
       "      <th>indsex</th>\n",
       "      <th>indobyr</th>\n",
       "      <th>wpdes</th>\n",
       "      <th>iasinc</th>\n",
       "      <th>hehelf</th>\n",
       "      <th>scdtdre</th>\n",
       "      <th>scdtdst</th>\n",
       "      <th>scdtdcl</th>\n",
       "      <th>scdtdha</th>\n",
       "      <th>scdtddr</th>\n",
       "      <th>scdtd01</th>\n",
       "      <th>scdtd02</th>\n",
       "      <th>scdtd03</th>\n",
       "      <th>scdtd04</th>\n",
       "      <th>scdtd05</th>\n",
       "      <th>scdtd06</th>\n",
       "      <th>scdtd07</th>\n",
       "      <th>scdtd08</th>\n",
       "      <th>scdtd85</th>\n",
       "    </tr>\n",
       "  </thead>\n",
       "  <tbody>\n",
       "    <tr>\n",
       "      <th>0</th>\n",
       "      <td>Male</td>\n",
       "      <td>1951</td>\n",
       "      <td>Employed</td>\n",
       "      <td>32000.0</td>\n",
       "      <td>Item not applicable</td>\n",
       "      <td>Schedule Not Applicable</td>\n",
       "      <td>Schedule Not Applicable</td>\n",
       "      <td>Schedule Not Applicable</td>\n",
       "      <td>Schedule Not Applicable</td>\n",
       "      <td>Schedule Not Applicable</td>\n",
       "      <td>Schedule Not Applicable</td>\n",
       "      <td>Schedule Not Applicable</td>\n",
       "      <td>Schedule Not Applicable</td>\n",
       "      <td>Schedule Not Applicable</td>\n",
       "      <td>Schedule Not Applicable</td>\n",
       "      <td>Schedule Not Applicable</td>\n",
       "      <td>Schedule Not Applicable</td>\n",
       "      <td>Schedule Not Applicable</td>\n",
       "      <td>Schedule Not Applicable</td>\n",
       "    </tr>\n",
       "    <tr>\n",
       "      <th>1</th>\n",
       "      <td>Male</td>\n",
       "      <td>1947</td>\n",
       "      <td>Retired</td>\n",
       "      <td>-1.0</td>\n",
       "      <td>very good,</td>\n",
       "      <td>Never</td>\n",
       "      <td>Disagree</td>\n",
       "      <td>Disagree</td>\n",
       "      <td>Disagree</td>\n",
       "      <td>Disagree</td>\n",
       "      <td>Not answered</td>\n",
       "      <td>Not answered</td>\n",
       "      <td>Not answered</td>\n",
       "      <td>Not answered</td>\n",
       "      <td>Not answered</td>\n",
       "      <td>Not answered</td>\n",
       "      <td>Not answered</td>\n",
       "      <td>Not answered</td>\n",
       "      <td>Not answered</td>\n",
       "    </tr>\n",
       "    <tr>\n",
       "      <th>2</th>\n",
       "      <td>Male</td>\n",
       "      <td>1951</td>\n",
       "      <td>Employed</td>\n",
       "      <td>200.0</td>\n",
       "      <td>very good,</td>\n",
       "      <td>Never</td>\n",
       "      <td>Disagree</td>\n",
       "      <td>Disagree</td>\n",
       "      <td>Disagree</td>\n",
       "      <td>Disagree</td>\n",
       "      <td>Not answered</td>\n",
       "      <td>Not answered</td>\n",
       "      <td>Not answered</td>\n",
       "      <td>Not answered</td>\n",
       "      <td>Not answered</td>\n",
       "      <td>Not answered</td>\n",
       "      <td>Not answered</td>\n",
       "      <td>Not answered</td>\n",
       "      <td>Not answered</td>\n",
       "    </tr>\n",
       "    <tr>\n",
       "      <th>3</th>\n",
       "      <td>Male</td>\n",
       "      <td>1948</td>\n",
       "      <td>Employed</td>\n",
       "      <td>18686.0</td>\n",
       "      <td>very good,</td>\n",
       "      <td>Never</td>\n",
       "      <td>Disagree</td>\n",
       "      <td>Disagree</td>\n",
       "      <td>Disagree</td>\n",
       "      <td>Disagree</td>\n",
       "      <td>Not answered</td>\n",
       "      <td>Not answered</td>\n",
       "      <td>Not answered</td>\n",
       "      <td>Not answered</td>\n",
       "      <td>Not answered</td>\n",
       "      <td>Not answered</td>\n",
       "      <td>Not answered</td>\n",
       "      <td>Not answered</td>\n",
       "      <td>Not answered</td>\n",
       "    </tr>\n",
       "    <tr>\n",
       "      <th>4</th>\n",
       "      <td>Male</td>\n",
       "      <td>1940</td>\n",
       "      <td>Retired</td>\n",
       "      <td>5000.0</td>\n",
       "      <td>very good,</td>\n",
       "      <td>Never</td>\n",
       "      <td>Disagree</td>\n",
       "      <td>Disagree</td>\n",
       "      <td>Disagree</td>\n",
       "      <td>Disagree</td>\n",
       "      <td>Not answered</td>\n",
       "      <td>Not answered</td>\n",
       "      <td>Not answered</td>\n",
       "      <td>Not answered</td>\n",
       "      <td>Not answered</td>\n",
       "      <td>Not answered</td>\n",
       "      <td>Not answered</td>\n",
       "      <td>Not answered</td>\n",
       "      <td>Not answered</td>\n",
       "    </tr>\n",
       "  </tbody>\n",
       "</table>\n",
       "</div>"
      ],
      "text/plain": [
       "  indsex  indobyr     wpdes   iasinc               hehelf  \\\n",
       "0   Male     1951  Employed  32000.0  Item not applicable   \n",
       "1   Male     1947   Retired     -1.0           very good,   \n",
       "2   Male     1951  Employed    200.0           very good,   \n",
       "3   Male     1948  Employed  18686.0           very good,   \n",
       "4   Male     1940   Retired   5000.0           very good,   \n",
       "\n",
       "                   scdtdre                  scdtdst                  scdtdcl  \\\n",
       "0  Schedule Not Applicable  Schedule Not Applicable  Schedule Not Applicable   \n",
       "1                    Never                 Disagree                 Disagree   \n",
       "2                    Never                 Disagree                 Disagree   \n",
       "3                    Never                 Disagree                 Disagree   \n",
       "4                    Never                 Disagree                 Disagree   \n",
       "\n",
       "                   scdtdha                  scdtddr                  scdtd01  \\\n",
       "0  Schedule Not Applicable  Schedule Not Applicable  Schedule Not Applicable   \n",
       "1                 Disagree                 Disagree             Not answered   \n",
       "2                 Disagree                 Disagree             Not answered   \n",
       "3                 Disagree                 Disagree             Not answered   \n",
       "4                 Disagree                 Disagree             Not answered   \n",
       "\n",
       "                   scdtd02                  scdtd03                  scdtd04  \\\n",
       "0  Schedule Not Applicable  Schedule Not Applicable  Schedule Not Applicable   \n",
       "1             Not answered             Not answered             Not answered   \n",
       "2             Not answered             Not answered             Not answered   \n",
       "3             Not answered             Not answered             Not answered   \n",
       "4             Not answered             Not answered             Not answered   \n",
       "\n",
       "                   scdtd05                  scdtd06                  scdtd07  \\\n",
       "0  Schedule Not Applicable  Schedule Not Applicable  Schedule Not Applicable   \n",
       "1             Not answered             Not answered             Not answered   \n",
       "2             Not answered             Not answered             Not answered   \n",
       "3             Not answered             Not answered             Not answered   \n",
       "4             Not answered             Not answered             Not answered   \n",
       "\n",
       "                   scdtd08                  scdtd85  \n",
       "0  Schedule Not Applicable  Schedule Not Applicable  \n",
       "1             Not answered             Not answered  \n",
       "2             Not answered             Not answered  \n",
       "3             Not answered             Not answered  \n",
       "4             Not answered             Not answered  "
      ]
     },
     "execution_count": 481,
     "metadata": {},
     "output_type": "execute_result"
    }
   ],
   "source": [
    "df.head(5)"
   ]
  },
  {
   "cell_type": "code",
   "execution_count": 474,
   "metadata": {
    "collapsed": true
   },
   "outputs": [],
   "source": [
    "# 5 parameters scdtdre\tscdtdst\tscdtdcl\tscdtdha\tscdtddr"
   ]
  },
  {
   "cell_type": "code",
   "execution_count": 482,
   "metadata": {
    "scrolled": true
   },
   "outputs": [
    {
     "name": "stderr",
     "output_type": "stream",
     "text": [
      "/anaconda2/lib/python2.7/site-packages/ipykernel_launcher.py:6: SettingWithCopyWarning: \n",
      "A value is trying to be set on a copy of a slice from a DataFrame.\n",
      "Try using .loc[row_indexer,col_indexer] = value instead\n",
      "\n",
      "See the caveats in the documentation: http://pandas.pydata.org/pandas-docs/stable/indexing.html#indexing-view-versus-copy\n",
      "  \n"
     ]
    }
   ],
   "source": [
    "df['featurescdtdre'] = df.scdtdre.map({'Never':0,\n",
    "                                        'Less than once a year':1,\n",
    "                                        'A few times a year':2,\n",
    "                                        'At least once a week':4,\n",
    "                                        'A few times a month':3,\n",
    "                                        'Almost every day':5})"
   ]
  },
  {
   "cell_type": "code",
   "execution_count": 483,
   "metadata": {},
   "outputs": [
    {
     "name": "stderr",
     "output_type": "stream",
     "text": [
      "/anaconda2/lib/python2.7/site-packages/ipykernel_launcher.py:6: SettingWithCopyWarning: \n",
      "A value is trying to be set on a copy of a slice from a DataFrame.\n",
      "Try using .loc[row_indexer,col_indexer] = value instead\n",
      "\n",
      "See the caveats in the documentation: http://pandas.pydata.org/pandas-docs/stable/indexing.html#indexing-view-versus-copy\n",
      "  \n"
     ]
    }
   ],
   "source": [
    "for i in ['scdtdst','scdtdcl','scdtdha','scdtddr']:\n",
    "    df['feature'+i] = df[i].map({'Disagree':0,\n",
    "                                'Slightly disagree':1,\n",
    "                                'Neither agree nor disagree':2,\n",
    "                                'Slightly agree':3,\n",
    "                                'Agree':4,'Strongly agree':5})"
   ]
  },
  {
   "cell_type": "code",
   "execution_count": 484,
   "metadata": {
    "scrolled": true
   },
   "outputs": [
    {
     "data": {
      "text/html": [
       "<div>\n",
       "<style>\n",
       "    .dataframe thead tr:only-child th {\n",
       "        text-align: right;\n",
       "    }\n",
       "\n",
       "    .dataframe thead th {\n",
       "        text-align: left;\n",
       "    }\n",
       "\n",
       "    .dataframe tbody tr th {\n",
       "        vertical-align: top;\n",
       "    }\n",
       "</style>\n",
       "<table border=\"1\" class=\"dataframe\">\n",
       "  <thead>\n",
       "    <tr style=\"text-align: right;\">\n",
       "      <th></th>\n",
       "      <th>indsex</th>\n",
       "      <th>indobyr</th>\n",
       "      <th>wpdes</th>\n",
       "      <th>iasinc</th>\n",
       "      <th>hehelf</th>\n",
       "      <th>scdtdre</th>\n",
       "      <th>scdtdst</th>\n",
       "      <th>scdtdcl</th>\n",
       "      <th>scdtdha</th>\n",
       "      <th>scdtddr</th>\n",
       "      <th>...</th>\n",
       "      <th>scdtd05</th>\n",
       "      <th>scdtd06</th>\n",
       "      <th>scdtd07</th>\n",
       "      <th>scdtd08</th>\n",
       "      <th>scdtd85</th>\n",
       "      <th>featurescdtdre</th>\n",
       "      <th>featurescdtdst</th>\n",
       "      <th>featurescdtdcl</th>\n",
       "      <th>featurescdtdha</th>\n",
       "      <th>featurescdtddr</th>\n",
       "    </tr>\n",
       "  </thead>\n",
       "  <tbody>\n",
       "    <tr>\n",
       "      <th>0</th>\n",
       "      <td>Male</td>\n",
       "      <td>1951</td>\n",
       "      <td>Employed</td>\n",
       "      <td>32000.0</td>\n",
       "      <td>Item not applicable</td>\n",
       "      <td>Schedule Not Applicable</td>\n",
       "      <td>Schedule Not Applicable</td>\n",
       "      <td>Schedule Not Applicable</td>\n",
       "      <td>Schedule Not Applicable</td>\n",
       "      <td>Schedule Not Applicable</td>\n",
       "      <td>...</td>\n",
       "      <td>Schedule Not Applicable</td>\n",
       "      <td>Schedule Not Applicable</td>\n",
       "      <td>Schedule Not Applicable</td>\n",
       "      <td>Schedule Not Applicable</td>\n",
       "      <td>Schedule Not Applicable</td>\n",
       "      <td>NaN</td>\n",
       "      <td>NaN</td>\n",
       "      <td>NaN</td>\n",
       "      <td>NaN</td>\n",
       "      <td>NaN</td>\n",
       "    </tr>\n",
       "    <tr>\n",
       "      <th>1</th>\n",
       "      <td>Male</td>\n",
       "      <td>1947</td>\n",
       "      <td>Retired</td>\n",
       "      <td>-1.0</td>\n",
       "      <td>very good,</td>\n",
       "      <td>Never</td>\n",
       "      <td>Disagree</td>\n",
       "      <td>Disagree</td>\n",
       "      <td>Disagree</td>\n",
       "      <td>Disagree</td>\n",
       "      <td>...</td>\n",
       "      <td>Not answered</td>\n",
       "      <td>Not answered</td>\n",
       "      <td>Not answered</td>\n",
       "      <td>Not answered</td>\n",
       "      <td>Not answered</td>\n",
       "      <td>0.0</td>\n",
       "      <td>0.0</td>\n",
       "      <td>0.0</td>\n",
       "      <td>0.0</td>\n",
       "      <td>0.0</td>\n",
       "    </tr>\n",
       "    <tr>\n",
       "      <th>2</th>\n",
       "      <td>Male</td>\n",
       "      <td>1951</td>\n",
       "      <td>Employed</td>\n",
       "      <td>200.0</td>\n",
       "      <td>very good,</td>\n",
       "      <td>Never</td>\n",
       "      <td>Disagree</td>\n",
       "      <td>Disagree</td>\n",
       "      <td>Disagree</td>\n",
       "      <td>Disagree</td>\n",
       "      <td>...</td>\n",
       "      <td>Not answered</td>\n",
       "      <td>Not answered</td>\n",
       "      <td>Not answered</td>\n",
       "      <td>Not answered</td>\n",
       "      <td>Not answered</td>\n",
       "      <td>0.0</td>\n",
       "      <td>0.0</td>\n",
       "      <td>0.0</td>\n",
       "      <td>0.0</td>\n",
       "      <td>0.0</td>\n",
       "    </tr>\n",
       "    <tr>\n",
       "      <th>3</th>\n",
       "      <td>Male</td>\n",
       "      <td>1948</td>\n",
       "      <td>Employed</td>\n",
       "      <td>18686.0</td>\n",
       "      <td>very good,</td>\n",
       "      <td>Never</td>\n",
       "      <td>Disagree</td>\n",
       "      <td>Disagree</td>\n",
       "      <td>Disagree</td>\n",
       "      <td>Disagree</td>\n",
       "      <td>...</td>\n",
       "      <td>Not answered</td>\n",
       "      <td>Not answered</td>\n",
       "      <td>Not answered</td>\n",
       "      <td>Not answered</td>\n",
       "      <td>Not answered</td>\n",
       "      <td>0.0</td>\n",
       "      <td>0.0</td>\n",
       "      <td>0.0</td>\n",
       "      <td>0.0</td>\n",
       "      <td>0.0</td>\n",
       "    </tr>\n",
       "    <tr>\n",
       "      <th>4</th>\n",
       "      <td>Male</td>\n",
       "      <td>1940</td>\n",
       "      <td>Retired</td>\n",
       "      <td>5000.0</td>\n",
       "      <td>very good,</td>\n",
       "      <td>Never</td>\n",
       "      <td>Disagree</td>\n",
       "      <td>Disagree</td>\n",
       "      <td>Disagree</td>\n",
       "      <td>Disagree</td>\n",
       "      <td>...</td>\n",
       "      <td>Not answered</td>\n",
       "      <td>Not answered</td>\n",
       "      <td>Not answered</td>\n",
       "      <td>Not answered</td>\n",
       "      <td>Not answered</td>\n",
       "      <td>0.0</td>\n",
       "      <td>0.0</td>\n",
       "      <td>0.0</td>\n",
       "      <td>0.0</td>\n",
       "      <td>0.0</td>\n",
       "    </tr>\n",
       "    <tr>\n",
       "      <th>5</th>\n",
       "      <td>Male</td>\n",
       "      <td>1947</td>\n",
       "      <td>Retired</td>\n",
       "      <td>38000.0</td>\n",
       "      <td>very good,</td>\n",
       "      <td>Less than once a year</td>\n",
       "      <td>Disagree</td>\n",
       "      <td>Disagree</td>\n",
       "      <td>Disagree</td>\n",
       "      <td>Disagree</td>\n",
       "      <td>...</td>\n",
       "      <td>No</td>\n",
       "      <td>No</td>\n",
       "      <td>No</td>\n",
       "      <td>No</td>\n",
       "      <td>No</td>\n",
       "      <td>1.0</td>\n",
       "      <td>0.0</td>\n",
       "      <td>0.0</td>\n",
       "      <td>0.0</td>\n",
       "      <td>0.0</td>\n",
       "    </tr>\n",
       "    <tr>\n",
       "      <th>6</th>\n",
       "      <td>Female</td>\n",
       "      <td>1950</td>\n",
       "      <td>Retired</td>\n",
       "      <td>-1.0</td>\n",
       "      <td>Item not applicable</td>\n",
       "      <td>Schedule Not Applicable</td>\n",
       "      <td>Schedule Not Applicable</td>\n",
       "      <td>Schedule Not Applicable</td>\n",
       "      <td>Schedule Not Applicable</td>\n",
       "      <td>Schedule Not Applicable</td>\n",
       "      <td>...</td>\n",
       "      <td>Schedule Not Applicable</td>\n",
       "      <td>Schedule Not Applicable</td>\n",
       "      <td>Schedule Not Applicable</td>\n",
       "      <td>Schedule Not Applicable</td>\n",
       "      <td>Schedule Not Applicable</td>\n",
       "      <td>NaN</td>\n",
       "      <td>NaN</td>\n",
       "      <td>NaN</td>\n",
       "      <td>NaN</td>\n",
       "      <td>NaN</td>\n",
       "    </tr>\n",
       "    <tr>\n",
       "      <th>7</th>\n",
       "      <td>Female</td>\n",
       "      <td>1959</td>\n",
       "      <td>Employed</td>\n",
       "      <td>23000.0</td>\n",
       "      <td>good,</td>\n",
       "      <td>Schedule Not Applicable</td>\n",
       "      <td>Schedule Not Applicable</td>\n",
       "      <td>Schedule Not Applicable</td>\n",
       "      <td>Schedule Not Applicable</td>\n",
       "      <td>Schedule Not Applicable</td>\n",
       "      <td>...</td>\n",
       "      <td>Schedule Not Applicable</td>\n",
       "      <td>Schedule Not Applicable</td>\n",
       "      <td>Schedule Not Applicable</td>\n",
       "      <td>Schedule Not Applicable</td>\n",
       "      <td>Schedule Not Applicable</td>\n",
       "      <td>NaN</td>\n",
       "      <td>NaN</td>\n",
       "      <td>NaN</td>\n",
       "      <td>NaN</td>\n",
       "      <td>NaN</td>\n",
       "    </tr>\n",
       "    <tr>\n",
       "      <th>8</th>\n",
       "      <td>Male</td>\n",
       "      <td>1929</td>\n",
       "      <td>Retired</td>\n",
       "      <td>-1.0</td>\n",
       "      <td>fair,</td>\n",
       "      <td>Never</td>\n",
       "      <td>Disagree</td>\n",
       "      <td>Disagree</td>\n",
       "      <td>Disagree</td>\n",
       "      <td>Disagree</td>\n",
       "      <td>...</td>\n",
       "      <td>Not answered</td>\n",
       "      <td>Not answered</td>\n",
       "      <td>Not answered</td>\n",
       "      <td>Not answered</td>\n",
       "      <td>Not answered</td>\n",
       "      <td>0.0</td>\n",
       "      <td>0.0</td>\n",
       "      <td>0.0</td>\n",
       "      <td>0.0</td>\n",
       "      <td>0.0</td>\n",
       "    </tr>\n",
       "    <tr>\n",
       "      <th>9</th>\n",
       "      <td>Male</td>\n",
       "      <td>1931</td>\n",
       "      <td>Retired</td>\n",
       "      <td>-1.0</td>\n",
       "      <td>very good,</td>\n",
       "      <td>Less than once a year</td>\n",
       "      <td>Disagree</td>\n",
       "      <td>Disagree</td>\n",
       "      <td>Disagree</td>\n",
       "      <td>Disagree</td>\n",
       "      <td>...</td>\n",
       "      <td>Not answered</td>\n",
       "      <td>Not answered</td>\n",
       "      <td>Not answered</td>\n",
       "      <td>Not answered</td>\n",
       "      <td>Not answered</td>\n",
       "      <td>1.0</td>\n",
       "      <td>0.0</td>\n",
       "      <td>0.0</td>\n",
       "      <td>0.0</td>\n",
       "      <td>0.0</td>\n",
       "    </tr>\n",
       "  </tbody>\n",
       "</table>\n",
       "<p>10 rows × 24 columns</p>\n",
       "</div>"
      ],
      "text/plain": [
       "   indsex  indobyr     wpdes   iasinc               hehelf  \\\n",
       "0    Male     1951  Employed  32000.0  Item not applicable   \n",
       "1    Male     1947   Retired     -1.0           very good,   \n",
       "2    Male     1951  Employed    200.0           very good,   \n",
       "3    Male     1948  Employed  18686.0           very good,   \n",
       "4    Male     1940   Retired   5000.0           very good,   \n",
       "5    Male     1947   Retired  38000.0           very good,   \n",
       "6  Female     1950   Retired     -1.0  Item not applicable   \n",
       "7  Female     1959  Employed  23000.0                good,   \n",
       "8    Male     1929   Retired     -1.0                fair,   \n",
       "9    Male     1931   Retired     -1.0           very good,   \n",
       "\n",
       "                   scdtdre                  scdtdst                  scdtdcl  \\\n",
       "0  Schedule Not Applicable  Schedule Not Applicable  Schedule Not Applicable   \n",
       "1                    Never                 Disagree                 Disagree   \n",
       "2                    Never                 Disagree                 Disagree   \n",
       "3                    Never                 Disagree                 Disagree   \n",
       "4                    Never                 Disagree                 Disagree   \n",
       "5    Less than once a year                 Disagree                 Disagree   \n",
       "6  Schedule Not Applicable  Schedule Not Applicable  Schedule Not Applicable   \n",
       "7  Schedule Not Applicable  Schedule Not Applicable  Schedule Not Applicable   \n",
       "8                    Never                 Disagree                 Disagree   \n",
       "9    Less than once a year                 Disagree                 Disagree   \n",
       "\n",
       "                   scdtdha                  scdtddr       ...        \\\n",
       "0  Schedule Not Applicable  Schedule Not Applicable       ...         \n",
       "1                 Disagree                 Disagree       ...         \n",
       "2                 Disagree                 Disagree       ...         \n",
       "3                 Disagree                 Disagree       ...         \n",
       "4                 Disagree                 Disagree       ...         \n",
       "5                 Disagree                 Disagree       ...         \n",
       "6  Schedule Not Applicable  Schedule Not Applicable       ...         \n",
       "7  Schedule Not Applicable  Schedule Not Applicable       ...         \n",
       "8                 Disagree                 Disagree       ...         \n",
       "9                 Disagree                 Disagree       ...         \n",
       "\n",
       "                   scdtd05                  scdtd06                  scdtd07  \\\n",
       "0  Schedule Not Applicable  Schedule Not Applicable  Schedule Not Applicable   \n",
       "1             Not answered             Not answered             Not answered   \n",
       "2             Not answered             Not answered             Not answered   \n",
       "3             Not answered             Not answered             Not answered   \n",
       "4             Not answered             Not answered             Not answered   \n",
       "5                       No                       No                       No   \n",
       "6  Schedule Not Applicable  Schedule Not Applicable  Schedule Not Applicable   \n",
       "7  Schedule Not Applicable  Schedule Not Applicable  Schedule Not Applicable   \n",
       "8             Not answered             Not answered             Not answered   \n",
       "9             Not answered             Not answered             Not answered   \n",
       "\n",
       "                   scdtd08                  scdtd85 featurescdtdre  \\\n",
       "0  Schedule Not Applicable  Schedule Not Applicable            NaN   \n",
       "1             Not answered             Not answered            0.0   \n",
       "2             Not answered             Not answered            0.0   \n",
       "3             Not answered             Not answered            0.0   \n",
       "4             Not answered             Not answered            0.0   \n",
       "5                       No                       No            1.0   \n",
       "6  Schedule Not Applicable  Schedule Not Applicable            NaN   \n",
       "7  Schedule Not Applicable  Schedule Not Applicable            NaN   \n",
       "8             Not answered             Not answered            0.0   \n",
       "9             Not answered             Not answered            1.0   \n",
       "\n",
       "  featurescdtdst featurescdtdcl featurescdtdha  featurescdtddr  \n",
       "0            NaN            NaN            NaN             NaN  \n",
       "1            0.0            0.0            0.0             0.0  \n",
       "2            0.0            0.0            0.0             0.0  \n",
       "3            0.0            0.0            0.0             0.0  \n",
       "4            0.0            0.0            0.0             0.0  \n",
       "5            0.0            0.0            0.0             0.0  \n",
       "6            NaN            NaN            NaN             NaN  \n",
       "7            NaN            NaN            NaN             NaN  \n",
       "8            0.0            0.0            0.0             0.0  \n",
       "9            0.0            0.0            0.0             0.0  \n",
       "\n",
       "[10 rows x 24 columns]"
      ]
     },
     "execution_count": 484,
     "metadata": {},
     "output_type": "execute_result"
    }
   ],
   "source": [
    "df.head(10)"
   ]
  },
  {
   "cell_type": "code",
   "execution_count": 485,
   "metadata": {
    "scrolled": true
   },
   "outputs": [
    {
     "data": {
      "text/plain": [
       "(10274, 24)"
      ]
     },
     "execution_count": 485,
     "metadata": {},
     "output_type": "execute_result"
    }
   ],
   "source": [
    "df.shape"
   ]
  },
  {
   "cell_type": "code",
   "execution_count": 486,
   "metadata": {},
   "outputs": [
    {
     "name": "stderr",
     "output_type": "stream",
     "text": [
      "/anaconda2/lib/python2.7/site-packages/ipykernel_launcher.py:1: SettingWithCopyWarning: \n",
      "A value is trying to be set on a copy of a slice from a DataFrame\n",
      "\n",
      "See the caveats in the documentation: http://pandas.pydata.org/pandas-docs/stable/indexing.html#indexing-view-versus-copy\n",
      "  \"\"\"Entry point for launching an IPython kernel.\n"
     ]
    }
   ],
   "source": [
    "df.dropna(inplace=True) # drop Schedule Not Applicable and Not answered, we still got 8703 observations"
   ]
  },
  {
   "cell_type": "code",
   "execution_count": 487,
   "metadata": {},
   "outputs": [
    {
     "data": {
      "text/plain": [
       "(8703, 24)"
      ]
     },
     "execution_count": 487,
     "metadata": {},
     "output_type": "execute_result"
    }
   ],
   "source": [
    "df.shape"
   ]
  },
  {
   "cell_type": "code",
   "execution_count": 488,
   "metadata": {},
   "outputs": [
    {
     "data": {
      "text/plain": [
       "count    8703.000000\n",
       "mean     1924.852465\n",
       "std       192.042066\n",
       "min        -7.000000\n",
       "25%      1937.000000\n",
       "50%      1945.000000\n",
       "75%      1951.000000\n",
       "max      1981.000000\n",
       "Name: indobyr, dtype: float64"
      ]
     },
     "execution_count": 488,
     "metadata": {},
     "output_type": "execute_result"
    }
   ],
   "source": [
    "df.indobyr.describe()"
   ]
  },
  {
   "cell_type": "code",
   "execution_count": 489,
   "metadata": {},
   "outputs": [
    {
     "data": {
      "text/plain": [
       "3547"
      ]
     },
     "execution_count": 489,
     "metadata": {},
     "output_type": "execute_result"
    }
   ],
   "source": [
    "len(df[df.iasinc>0])"
   ]
  },
  {
   "cell_type": "code",
   "execution_count": 490,
   "metadata": {
    "collapsed": true
   },
   "outputs": [],
   "source": [
    "# get rid of strange values\n",
    "Crit1 = df.indobyr > 0\n",
    "Crit2 = df.iasinc > 0\n",
    "AllCrit = Crit1 & Crit2"
   ]
  },
  {
   "cell_type": "code",
   "execution_count": 491,
   "metadata": {
    "collapsed": true
   },
   "outputs": [],
   "source": [
    "finaldf = df[AllCrit]"
   ]
  },
  {
   "cell_type": "code",
   "execution_count": 492,
   "metadata": {
    "collapsed": true,
    "scrolled": true
   },
   "outputs": [],
   "source": [
    "finaldf.indobyr = 2011 - finaldf.indobyr"
   ]
  },
  {
   "cell_type": "code",
   "execution_count": 495,
   "metadata": {},
   "outputs": [
    {
     "data": {
      "text/plain": [
       "count           3545\n",
       "unique             7\n",
       "top       very good,\n",
       "freq            1328\n",
       "Name: hehelf, dtype: object"
      ]
     },
     "execution_count": 495,
     "metadata": {},
     "output_type": "execute_result"
    }
   ],
   "source": [
    "finaldf.hehelf.describe()"
   ]
  },
  {
   "cell_type": "code",
   "execution_count": null,
   "metadata": {
    "collapsed": true
   },
   "outputs": [],
   "source": [
    "finaldf.hehelf.replace('very good,', 3, inplace = True)\n",
    "finaldf.hehelf.replace('fair,', 1, inplace = True)\n",
    "finaldf.hehelf.replace('good,', 2, inplace = True)\n",
    "finaldf.hehelf.replace('...excellent,', 4, inplace = True)\n",
    "finaldf.hehelf.replace('or, poor?', 0, inplace = True)\n",
    "finaldf.hehelf.replace(\"Don't Know\", 1, inplace = True)\n",
    "finaldf.hehelf.replace(\"Refusal\", 1, inplace = True)"
   ]
  },
  {
   "cell_type": "code",
   "execution_count": 496,
   "metadata": {},
   "outputs": [],
   "source": [
    "finaldf.indsex.replace('Male', 0, inplace = True)\n",
    "finaldf.indsex.replace('Female', 1, inplace = True)"
   ]
  },
  {
   "cell_type": "markdown",
   "metadata": {},
   "source": [
    "## Descriptive analysis\n",
    "### Some visualization"
   ]
  },
  {
   "cell_type": "code",
   "execution_count": 501,
   "metadata": {},
   "outputs": [
    {
     "data": {
      "text/plain": [
       "(3545, 25)"
      ]
     },
     "execution_count": 501,
     "metadata": {},
     "output_type": "execute_result"
    }
   ],
   "source": [
    "finaldf.shape"
   ]
  },
  {
   "cell_type": "code",
   "execution_count": 508,
   "metadata": {
    "scrolled": true
   },
   "outputs": [
    {
     "data": {
      "image/png": "[encoded data removed]",
      "text/plain": [
       "<matplotlib.figure.Figure at 0x144ee17d0>"
      ]
     },
     "metadata": {},
     "output_type": "display_data"
    }
   ],
   "source": [
    "finaldf.indobyr.plot('hist', bins =20, color = 'teal')\n",
    "pl.xlabel('Age')\n",
    "pl.show()"
   ]
  },
  {
   "cell_type": "markdown",
   "metadata": {},
   "source": [
    "### Fig1. Age distribution in data"
   ]
  },
  {
   "cell_type": "code",
   "execution_count": 499,
   "metadata": {
    "scrolled": true
   },
   "outputs": [
    {
     "name": "stderr",
     "output_type": "stream",
     "text": [
      "/anaconda2/lib/python2.7/site-packages/ipykernel_launcher.py:2: SettingWithCopyWarning: \n",
      "A value is trying to be set on a copy of a slice from a DataFrame.\n",
      "Try using .loc[row_indexer,col_indexer] = value instead\n",
      "\n",
      "See the caveats in the documentation: http://pandas.pydata.org/pandas-docs/stable/indexing.html#indexing-view-versus-copy\n",
      "  \n"
     ]
    }
   ],
   "source": [
    "#create perceived discrimination score\n",
    "finaldf['DisScore'] = finaldf['featurescdtdre'] + finaldf['featurescdtdst'] +\\\n",
    "finaldf['featurescdtdcl']+finaldf['featurescdtdha']+ finaldf['featurescdtddr']"
   ]
  },
  {
   "cell_type": "code",
   "execution_count": 500,
   "metadata": {
    "scrolled": true
   },
   "outputs": [
    {
     "data": {
      "image/png": "[encoded data removed]",
      "text/plain": [
       "<matplotlib.figure.Figure at 0x118d99e50>"
      ]
     },
     "metadata": {},
     "output_type": "display_data"
    }
   ],
   "source": [
    "pl.scatter(finaldf.indobyr,finaldf.DisScore, color = 'teal', alpha=0.3)\n",
    "pl.xlabel('Age')\n",
    "pl.ylabel('discrimination')\n",
    "pl.show()"
   ]
  },
  {
   "cell_type": "markdown",
   "metadata": {},
   "source": [
    "### Fig2. Discrimination distribution by age"
   ]
  },
  {
   "cell_type": "code",
   "execution_count": 283,
   "metadata": {},
   "outputs": [
    {
     "name": "stdout",
     "output_type": "stream",
     "text": [
      "Never : 1253\n",
      "Less than once a year : 982\n",
      "A few times a year : 753\n",
      "At least once a week : 183\n",
      "Almost every day : 57\n",
      "A few times a month : 317\n"
     ]
    }
   ],
   "source": [
    "# You are treated with less courtesy or respect than other people\n",
    "scdtdreX = []\n",
    "for i in finaldf.scdtdre.unique():\n",
    "    a = len(finaldf[finaldf['scdtdre']== i])\n",
    "    print i,\":\",a\n",
    "    scdtdreX.append(a)"
   ]
  },
  {
   "cell_type": "code",
   "execution_count": 284,
   "metadata": {
    "scrolled": false
   },
   "outputs": [
    {
     "name": "stdout",
     "output_type": "stream",
     "text": [
      "Disagree : 1943\n",
      "Slightly disagree : 1044\n",
      "Neither agree nor disagree : 421\n",
      "Slightly agree : 96\n",
      "Agree : 35\n",
      "Strongly agree : 6\n"
     ]
    }
   ],
   "source": [
    "# You receive poorer service than other people at restaurants or stores\n",
    "scdtdstX = []\n",
    "for i in finaldf.scdtdst.unique():\n",
    "    a = len(finaldf[finaldf['scdtdst']== i])\n",
    "    print i,\":\",a\n",
    "    scdtdstX.append(a)"
   ]
  },
  {
   "cell_type": "code",
   "execution_count": 285,
   "metadata": {},
   "outputs": [
    {
     "name": "stdout",
     "output_type": "stream",
     "text": [
      "Disagree : 2023\n",
      "Neither agree nor disagree : 423\n",
      "Slightly disagree : 865\n",
      "Slightly agree : 133\n",
      "Agree : 76\n",
      "Strongly agree : 25\n"
     ]
    }
   ],
   "source": [
    "# People act as if they think you are not clever\n",
    "scdtdclX = []\n",
    "for i in finaldf.scdtdcl.unique():\n",
    "    a = len(finaldf[finaldf['scdtdcl']== i])\n",
    "    print i,\":\",a\n",
    "    scdtdclX.append(a)"
   ]
  },
  {
   "cell_type": "code",
   "execution_count": 286,
   "metadata": {},
   "outputs": [
    {
     "name": "stdout",
     "output_type": "stream",
     "text": [
      "Disagree : 2448\n",
      "Slightly disagree : 752\n",
      "Slightly agree : 64\n",
      "Agree : 32\n",
      "Neither agree nor disagree : 231\n",
      "Strongly agree : 18\n"
     ]
    }
   ],
   "source": [
    "# You are threatened or harassed\n",
    "scdtdhaX = []\n",
    "for i in finaldf.scdtdha.unique():\n",
    "    a = len(finaldf[finaldf['scdtdha']== i])\n",
    "    print i,\":\",a\n",
    "    scdtdhaX.append(a)"
   ]
  },
  {
   "cell_type": "code",
   "execution_count": 287,
   "metadata": {},
   "outputs": [
    {
     "name": "stdout",
     "output_type": "stream",
     "text": [
      "Disagree : 2914\n",
      "Slightly agree : 15\n",
      "Slightly disagree : 519\n",
      "Neither agree nor disagree : 88\n",
      "Agree : 7\n",
      "Strongly agree : 2\n"
     ]
    }
   ],
   "source": [
    "# You receive poorer service or treatment than other people from doctors or hospitals\n",
    "scdtddrX = []\n",
    "for i in finaldf.scdtddr.unique():\n",
    "    a = len(finaldf[finaldf['scdtddr']== i])\n",
    "    print i,\":\",a\n",
    "    scdtddrX.append(a)"
   ]
  },
  {
   "cell_type": "code",
   "execution_count": 468,
   "metadata": {
    "scrolled": false
   },
   "outputs": [
    {
     "data": {
      "image/png": "[encoded data removed]",
      "text/plain": [
       "<matplotlib.figure.Figure at 0x112681850>"
      ]
     },
     "metadata": {},
     "output_type": "display_data"
    }
   ],
   "source": [
    "# use hist plot to visualize\n",
    "fig = pl.figure(figsize = (15,10))\n",
    "\n",
    "ax = fig.add_subplot(231)\n",
    "pl.bar(range(6), scdtdreX, color = 'teal')\n",
    "pl.ylabel('answer counts')\n",
    "pl.xticks(range(6), ('Never:','Less than once a year:',\n",
    "                     'A few times a year:',\n",
    "                     'At least once a week:',\n",
    "                     'Almost every day:',\n",
    "                     'A few times a month:'), rotation = 80)\n",
    "\n",
    "ax = fig.add_subplot(232)\n",
    "pl.bar(range(6), scdtdstX, color = 'teal')\n",
    "pl.ylabel('answer counts')\n",
    "pl.xticks(range(6), ('Disagree:',\n",
    "                     'Slightly disagree:',\n",
    "                     'Neither agree nor disagree:',\n",
    "                     'Slightly agree:',\n",
    "                     'Agree:',\n",
    "                     'Strongly agree:'), rotation = 80)\n",
    "\n",
    "ax = fig.add_subplot(233)\n",
    "pl.bar(range(6), scdtdclX, color = 'teal')\n",
    "pl.ylabel('answer counts')\n",
    "pl.xticks(range(6), ('Disagree:','Neither agree nor disagree:',\n",
    "                     'Slightly disagree:',\n",
    "                     'Slightly agree:',\n",
    "                     'Agree:',\n",
    "                     'Strongly agree:'), rotation = 80)\n",
    "\n",
    "ax = fig.add_subplot(234)\n",
    "pl.bar(range(6), scdtdhaX, color = 'teal')\n",
    "pl.ylabel('answer counts')\n",
    "pl.xticks(range(6), ('Disagree:',\n",
    "                     'Slightly disagree:','Slightly agree:',\n",
    "                     'Agree:','Neither agree nor disagree:',\n",
    "                     'Strongly agree:'), rotation = 80)\n",
    "\n",
    "ax = fig.add_subplot(235)\n",
    "pl.bar(range(6), scdtddrX, color = 'teal')\n",
    "pl.ylabel('answer counts')\n",
    "pl.xticks(range(6), ('Disagree','Slightly agree:',\n",
    "                     'Slightly disagree:',\n",
    "                     'Neither agree nor disagree:',\n",
    "                     'Agree:','Strongly agree:'),rotation = 80)\n",
    "pl.tight_layout()\n",
    "pl.show()\n",
    "fig.savefig('comparison.jpg')"
   ]
  },
  {
   "cell_type": "markdown",
   "metadata": {},
   "source": [
    "### Fig3. Comparison of answer distribution of 5 questions"
   ]
  },
  {
   "cell_type": "code",
   "execution_count": 289,
   "metadata": {
    "scrolled": false
   },
   "outputs": [
    {
     "name": "stderr",
     "output_type": "stream",
     "text": [
      "/anaconda2/lib/python2.7/site-packages/ipykernel_launcher.py:1: SettingWithCopyWarning: \n",
      "A value is trying to be set on a copy of a slice from a DataFrame\n",
      "\n",
      "See the caveats in the documentation: http://pandas.pydata.org/pandas-docs/stable/indexing.html#indexing-view-versus-copy\n",
      "  \"\"\"Entry point for launching an IPython kernel.\n"
     ]
    }
   ],
   "source": [
    "finaldf.drop(finaldf.columns[4:9], axis = 1, inplace= True)"
   ]
  },
  {
   "cell_type": "code",
   "execution_count": 502,
   "metadata": {
    "scrolled": false
   },
   "outputs": [
    {
     "data": {
      "text/plain": [
       "count    3545.000000\n",
       "mean        3.311989\n",
       "std         3.452064\n",
       "min         0.000000\n",
       "25%         0.000000\n",
       "50%         2.000000\n",
       "75%         5.000000\n",
       "max        25.000000\n",
       "Name: DisScore, dtype: float64"
      ]
     },
     "execution_count": 502,
     "metadata": {},
     "output_type": "execute_result"
    }
   ],
   "source": [
    "finaldf.DisScore.describe()"
   ]
  },
  {
   "cell_type": "markdown",
   "metadata": {},
   "source": [
    "### Ratio of perceived discrimination in respondents"
   ]
  },
  {
   "cell_type": "code",
   "execution_count": 509,
   "metadata": {
    "scrolled": true
   },
   "outputs": [
    {
     "name": "stdout",
     "output_type": "stream",
     "text": [
      "('In the 3545 valid respondents', '72% of them think they perceived discrimination in life')\n"
     ]
    }
   ],
   "source": [
    "ratio = len(finaldf[finaldf.DisScore > 0]) * 100/ len(finaldf)\n",
    "print('In the %d valid respondents'%finaldf.shape[0], '%d%% of them think they perceived discrimination in life'%ratio)"
   ]
  },
  {
   "cell_type": "markdown",
   "metadata": {},
   "source": [
    "### Reason for discrimination(Self report)"
   ]
  },
  {
   "cell_type": "code",
   "execution_count": 293,
   "metadata": {
    "collapsed": true
   },
   "outputs": [],
   "source": [
    "finaldf = finaldf.rename(columns={'scdtd01':'gender', 'scdtd02':'race', 'scdtd03':'age','scdtd04':'weight',\n",
    "                        'scdtd05':'physical disability', 'scdtd06': 'appearance','scdtd07':'sexual orientation',\n",
    "                        'scdtd08':'financial status','scdtd85':'Other'}, )"
   ]
  },
  {
   "cell_type": "code",
   "execution_count": 294,
   "metadata": {
    "scrolled": true
   },
   "outputs": [
    {
     "name": "stdout",
     "output_type": "stream",
     "text": [
      "('Reason for discrimination(Self report):gender', 432)\n",
      "('Reason for discrimination(Self report):race', 72)\n",
      "('Reason for discrimination(Self report):age', 1043)\n",
      "('Reason for discrimination(Self report):weight', 200)\n",
      "('Reason for discrimination(Self report):physical disability', 64)\n",
      "('Reason for discrimination(Self report):appearance', 158)\n",
      "('Reason for discrimination(Self report):sexual orientation', 23)\n",
      "('Reason for discrimination(Self report):financial status', 248)\n",
      "('Reason for discrimination(Self report):Other', 4)\n"
     ]
    }
   ],
   "source": [
    "for i in ['gender', 'race','age','weight','physical disability', 'appearance', 'sexual orientation',\n",
    "          'financial status','Other']:\n",
    "    print('Reason for discrimination(Self report):'+i,len(finaldf[finaldf[i] == 'Yes']))"
   ]
  },
  {
   "cell_type": "markdown",
   "metadata": {},
   "source": [
    "* From this, we can see that most people perceived discrimination think the cause is their age, and the second and third causation is gender and financial status respectively."
   ]
  },
  {
   "cell_type": "markdown",
   "metadata": {},
   "source": [
    "## Regression analysis"
   ]
  },
  {
   "cell_type": "markdown",
   "metadata": {},
   "source": [
    "* How well does discrimination relate to age and financial status?"
   ]
  },
  {
   "cell_type": "code",
   "execution_count": 346,
   "metadata": {
    "collapsed": true
   },
   "outputs": [],
   "source": [
    "X = finaldf[['indobyr']]\n",
    "y = finaldf.DisScore\n",
    "X=sm.add_constant(X)"
   ]
  },
  {
   "cell_type": "code",
   "execution_count": 349,
   "metadata": {
    "scrolled": false
   },
   "outputs": [
    {
     "data": {
      "text/html": [
       "<table class=\"simpletable\">\n",
       "<caption>OLS Regression Results</caption>\n",
       "<tr>\n",
       "  <th>Dep. Variable:</th>        <td>DisScore</td>     <th>  R-squared:         </th> <td>   0.008</td> \n",
       "</tr>\n",
       "<tr>\n",
       "  <th>Model:</th>                   <td>OLS</td>       <th>  Adj. R-squared:    </th> <td>   0.008</td> \n",
       "</tr>\n",
       "<tr>\n",
       "  <th>Method:</th>             <td>Least Squares</td>  <th>  F-statistic:       </th> <td>   29.92</td> \n",
       "</tr>\n",
       "<tr>\n",
       "  <th>Date:</th>             <td>Thu, 14 Dec 2017</td> <th>  Prob (F-statistic):</th> <td>4.80e-08</td> \n",
       "</tr>\n",
       "<tr>\n",
       "  <th>Time:</th>                 <td>18:00:54</td>     <th>  Log-Likelihood:    </th> <td> -9406.9</td> \n",
       "</tr>\n",
       "<tr>\n",
       "  <th>No. Observations:</th>      <td>  3545</td>      <th>  AIC:               </th> <td>1.882e+04</td>\n",
       "</tr>\n",
       "<tr>\n",
       "  <th>Df Residuals:</th>          <td>  3543</td>      <th>  BIC:               </th> <td>1.883e+04</td>\n",
       "</tr>\n",
       "<tr>\n",
       "  <th>Df Model:</th>              <td>     1</td>      <th>                     </th>     <td> </td>    \n",
       "</tr>\n",
       "<tr>\n",
       "  <th>Covariance Type:</th>      <td>nonrobust</td>    <th>                     </th>     <td> </td>    \n",
       "</tr>\n",
       "</table>\n",
       "<table class=\"simpletable\">\n",
       "<tr>\n",
       "     <td></td>        <th>coef</th>     <th>std err</th>      <th>t</th>      <th>P>|t|</th>  <th>[0.025</th>    <th>0.975]</th>  \n",
       "</tr>\n",
       "<tr>\n",
       "  <th>const</th>   <td>    6.4337</td> <td>    0.574</td> <td>   11.217</td> <td> 0.000</td> <td>    5.309</td> <td>    7.558</td>\n",
       "</tr>\n",
       "<tr>\n",
       "  <th>indobyr</th> <td>   -0.0511</td> <td>    0.009</td> <td>   -5.470</td> <td> 0.000</td> <td>   -0.069</td> <td>   -0.033</td>\n",
       "</tr>\n",
       "</table>\n",
       "<table class=\"simpletable\">\n",
       "<tr>\n",
       "  <th>Omnibus:</th>       <td>900.659</td> <th>  Durbin-Watson:     </th> <td>   1.951</td>\n",
       "</tr>\n",
       "<tr>\n",
       "  <th>Prob(Omnibus):</th> <td> 0.000</td>  <th>  Jarque-Bera (JB):  </th> <td>2206.748</td>\n",
       "</tr>\n",
       "<tr>\n",
       "  <th>Skew:</th>          <td> 1.390</td>  <th>  Prob(JB):          </th> <td>    0.00</td>\n",
       "</tr>\n",
       "<tr>\n",
       "  <th>Kurtosis:</th>      <td> 5.685</td>  <th>  Cond. No.          </th> <td>    610.</td>\n",
       "</tr>\n",
       "</table>"
      ],
      "text/plain": [
       "<class 'statsmodels.iolib.summary.Summary'>\n",
       "\"\"\"\n",
       "                            OLS Regression Results                            \n",
       "==============================================================================\n",
       "Dep. Variable:               DisScore   R-squared:                       0.008\n",
       "Model:                            OLS   Adj. R-squared:                  0.008\n",
       "Method:                 Least Squares   F-statistic:                     29.92\n",
       "Date:                Thu, 14 Dec 2017   Prob (F-statistic):           4.80e-08\n",
       "Time:                        18:00:54   Log-Likelihood:                -9406.9\n",
       "No. Observations:                3545   AIC:                         1.882e+04\n",
       "Df Residuals:                    3543   BIC:                         1.883e+04\n",
       "Df Model:                           1                                         \n",
       "Covariance Type:            nonrobust                                         \n",
       "==============================================================================\n",
       "                 coef    std err          t      P>|t|      [0.025      0.975]\n",
       "------------------------------------------------------------------------------\n",
       "const          6.4337      0.574     11.217      0.000       5.309       7.558\n",
       "indobyr       -0.0511      0.009     -5.470      0.000      -0.069      -0.033\n",
       "==============================================================================\n",
       "Omnibus:                      900.659   Durbin-Watson:                   1.951\n",
       "Prob(Omnibus):                  0.000   Jarque-Bera (JB):             2206.748\n",
       "Skew:                           1.390   Prob(JB):                         0.00\n",
       "Kurtosis:                       5.685   Cond. No.                         610.\n",
       "==============================================================================\n",
       "\n",
       "Warnings:\n",
       "[1] Standard Errors assume that the covariance matrix of the errors is correctly specified.\n",
       "\"\"\""
      ]
     },
     "execution_count": 349,
     "metadata": {},
     "output_type": "execute_result"
    }
   ],
   "source": [
    "Amodel = smf.OLS(y, X).fit()\n",
    "Amodel.summary()"
   ]
  },
  {
   "cell_type": "markdown",
   "metadata": {},
   "source": [
    "* The adjusted R^2 indicates 0.8% of the variability is accounted for by this model"
   ]
  },
  {
   "cell_type": "code",
   "execution_count": 351,
   "metadata": {
    "collapsed": true
   },
   "outputs": [],
   "source": [
    "X = finaldf[['iasinc']]\n",
    "y = finaldf.DisScore\n",
    "X=sm.add_constant(X)"
   ]
  },
  {
   "cell_type": "code",
   "execution_count": 352,
   "metadata": {
    "collapsed": true
   },
   "outputs": [],
   "source": [
    "Fmodel = sm.OLS(y,X).fit()"
   ]
  },
  {
   "cell_type": "code",
   "execution_count": 353,
   "metadata": {},
   "outputs": [
    {
     "data": {
      "text/html": [
       "<table class=\"simpletable\">\n",
       "<caption>OLS Regression Results</caption>\n",
       "<tr>\n",
       "  <th>Dep. Variable:</th>        <td>DisScore</td>     <th>  R-squared:         </th> <td>   0.000</td> \n",
       "</tr>\n",
       "<tr>\n",
       "  <th>Model:</th>                   <td>OLS</td>       <th>  Adj. R-squared:    </th> <td>  -0.000</td> \n",
       "</tr>\n",
       "<tr>\n",
       "  <th>Method:</th>             <td>Least Squares</td>  <th>  F-statistic:       </th> <td> 0.03103</td> \n",
       "</tr>\n",
       "<tr>\n",
       "  <th>Date:</th>             <td>Thu, 14 Dec 2017</td> <th>  Prob (F-statistic):</th>  <td> 0.860</td>  \n",
       "</tr>\n",
       "<tr>\n",
       "  <th>Time:</th>                 <td>18:01:45</td>     <th>  Log-Likelihood:    </th> <td> -9421.8</td> \n",
       "</tr>\n",
       "<tr>\n",
       "  <th>No. Observations:</th>      <td>  3545</td>      <th>  AIC:               </th> <td>1.885e+04</td>\n",
       "</tr>\n",
       "<tr>\n",
       "  <th>Df Residuals:</th>          <td>  3543</td>      <th>  BIC:               </th> <td>1.886e+04</td>\n",
       "</tr>\n",
       "<tr>\n",
       "  <th>Df Model:</th>              <td>     1</td>      <th>                     </th>     <td> </td>    \n",
       "</tr>\n",
       "<tr>\n",
       "  <th>Covariance Type:</th>      <td>nonrobust</td>    <th>                     </th>     <td> </td>    \n",
       "</tr>\n",
       "</table>\n",
       "<table class=\"simpletable\">\n",
       "<tr>\n",
       "     <td></td>       <th>coef</th>     <th>std err</th>      <th>t</th>      <th>P>|t|</th>  <th>[0.025</th>    <th>0.975]</th>  \n",
       "</tr>\n",
       "<tr>\n",
       "  <th>const</th>  <td>    3.3224</td> <td>    0.083</td> <td>   40.070</td> <td> 0.000</td> <td>    3.160</td> <td>    3.485</td>\n",
       "</tr>\n",
       "<tr>\n",
       "  <th>iasinc</th> <td>-3.674e-07</td> <td> 2.09e-06</td> <td>   -0.176</td> <td> 0.860</td> <td>-4.46e-06</td> <td> 3.72e-06</td>\n",
       "</tr>\n",
       "</table>\n",
       "<table class=\"simpletable\">\n",
       "<tr>\n",
       "  <th>Omnibus:</th>       <td>915.497</td> <th>  Durbin-Watson:     </th> <td>   1.944</td>\n",
       "</tr>\n",
       "<tr>\n",
       "  <th>Prob(Omnibus):</th> <td> 0.000</td>  <th>  Jarque-Bera (JB):  </th> <td>2270.336</td>\n",
       "</tr>\n",
       "<tr>\n",
       "  <th>Skew:</th>          <td> 1.408</td>  <th>  Prob(JB):          </th> <td>    0.00</td>\n",
       "</tr>\n",
       "<tr>\n",
       "  <th>Kurtosis:</th>      <td> 5.728</td>  <th>  Cond. No.          </th> <td>5.68e+04</td>\n",
       "</tr>\n",
       "</table>"
      ],
      "text/plain": [
       "<class 'statsmodels.iolib.summary.Summary'>\n",
       "\"\"\"\n",
       "                            OLS Regression Results                            \n",
       "==============================================================================\n",
       "Dep. Variable:               DisScore   R-squared:                       0.000\n",
       "Model:                            OLS   Adj. R-squared:                 -0.000\n",
       "Method:                 Least Squares   F-statistic:                   0.03103\n",
       "Date:                Thu, 14 Dec 2017   Prob (F-statistic):              0.860\n",
       "Time:                        18:01:45   Log-Likelihood:                -9421.8\n",
       "No. Observations:                3545   AIC:                         1.885e+04\n",
       "Df Residuals:                    3543   BIC:                         1.886e+04\n",
       "Df Model:                           1                                         \n",
       "Covariance Type:            nonrobust                                         \n",
       "==============================================================================\n",
       "                 coef    std err          t      P>|t|      [0.025      0.975]\n",
       "------------------------------------------------------------------------------\n",
       "const          3.3224      0.083     40.070      0.000       3.160       3.485\n",
       "iasinc     -3.674e-07   2.09e-06     -0.176      0.860   -4.46e-06    3.72e-06\n",
       "==============================================================================\n",
       "Omnibus:                      915.497   Durbin-Watson:                   1.944\n",
       "Prob(Omnibus):                  0.000   Jarque-Bera (JB):             2270.336\n",
       "Skew:                           1.408   Prob(JB):                         0.00\n",
       "Kurtosis:                       5.728   Cond. No.                     5.68e+04\n",
       "==============================================================================\n",
       "\n",
       "Warnings:\n",
       "[1] Standard Errors assume that the covariance matrix of the errors is correctly specified.\n",
       "[2] The condition number is large, 5.68e+04. This might indicate that there are\n",
       "strong multicollinearity or other numerical problems.\n",
       "\"\"\""
      ]
     },
     "execution_count": 353,
     "metadata": {},
     "output_type": "execute_result"
    }
   ],
   "source": [
    "Fmodel.summary()"
   ]
  },
  {
   "cell_type": "code",
   "execution_count": 354,
   "metadata": {
    "collapsed": true
   },
   "outputs": [],
   "source": [
    "X = finaldf[['indobyr','iasinc']]\n",
    "y = finaldf.DisScore\n",
    "X=sm.add_constant(X)"
   ]
  },
  {
   "cell_type": "code",
   "execution_count": 355,
   "metadata": {
    "collapsed": true
   },
   "outputs": [],
   "source": [
    "Bmodel = sm.OLS(y,X).fit()"
   ]
  },
  {
   "cell_type": "code",
   "execution_count": 356,
   "metadata": {},
   "outputs": [
    {
     "data": {
      "text/html": [
       "<table class=\"simpletable\">\n",
       "<caption>OLS Regression Results</caption>\n",
       "<tr>\n",
       "  <th>Dep. Variable:</th>        <td>DisScore</td>     <th>  R-squared:         </th> <td>   0.010</td> \n",
       "</tr>\n",
       "<tr>\n",
       "  <th>Model:</th>                   <td>OLS</td>       <th>  Adj. R-squared:    </th> <td>   0.009</td> \n",
       "</tr>\n",
       "<tr>\n",
       "  <th>Method:</th>             <td>Least Squares</td>  <th>  F-statistic:       </th> <td>   17.11</td> \n",
       "</tr>\n",
       "<tr>\n",
       "  <th>Date:</th>             <td>Thu, 14 Dec 2017</td> <th>  Prob (F-statistic):</th> <td>4.01e-08</td> \n",
       "</tr>\n",
       "<tr>\n",
       "  <th>Time:</th>                 <td>18:01:50</td>     <th>  Log-Likelihood:    </th> <td> -9404.7</td> \n",
       "</tr>\n",
       "<tr>\n",
       "  <th>No. Observations:</th>      <td>  3545</td>      <th>  AIC:               </th> <td>1.882e+04</td>\n",
       "</tr>\n",
       "<tr>\n",
       "  <th>Df Residuals:</th>          <td>  3542</td>      <th>  BIC:               </th> <td>1.883e+04</td>\n",
       "</tr>\n",
       "<tr>\n",
       "  <th>Df Model:</th>              <td>     2</td>      <th>                     </th>     <td> </td>    \n",
       "</tr>\n",
       "<tr>\n",
       "  <th>Covariance Type:</th>      <td>nonrobust</td>    <th>                     </th>     <td> </td>    \n",
       "</tr>\n",
       "</table>\n",
       "<table class=\"simpletable\">\n",
       "<tr>\n",
       "     <td></td>        <th>coef</th>     <th>std err</th>      <th>t</th>      <th>P>|t|</th>  <th>[0.025</th>    <th>0.975]</th>  \n",
       "</tr>\n",
       "<tr>\n",
       "  <th>const</th>   <td>    6.9679</td> <td>    0.629</td> <td>   11.081</td> <td> 0.000</td> <td>    5.735</td> <td>    8.201</td>\n",
       "</tr>\n",
       "<tr>\n",
       "  <th>indobyr</th> <td>   -0.0578</td> <td>    0.010</td> <td>   -5.848</td> <td> 0.000</td> <td>   -0.077</td> <td>   -0.038</td>\n",
       "</tr>\n",
       "<tr>\n",
       "  <th>iasinc</th>  <td>-4.538e-06</td> <td>  2.2e-06</td> <td>   -2.067</td> <td> 0.039</td> <td>-8.84e-06</td> <td>-2.35e-07</td>\n",
       "</tr>\n",
       "</table>\n",
       "<table class=\"simpletable\">\n",
       "<tr>\n",
       "  <th>Omnibus:</th>       <td>896.467</td> <th>  Durbin-Watson:     </th> <td>   1.950</td>\n",
       "</tr>\n",
       "<tr>\n",
       "  <th>Prob(Omnibus):</th> <td> 0.000</td>  <th>  Jarque-Bera (JB):  </th> <td>2189.966</td>\n",
       "</tr>\n",
       "<tr>\n",
       "  <th>Skew:</th>          <td> 1.385</td>  <th>  Prob(JB):          </th> <td>    0.00</td>\n",
       "</tr>\n",
       "<tr>\n",
       "  <th>Kurtosis:</th>      <td> 5.674</td>  <th>  Cond. No.          </th> <td>4.33e+05</td>\n",
       "</tr>\n",
       "</table>"
      ],
      "text/plain": [
       "<class 'statsmodels.iolib.summary.Summary'>\n",
       "\"\"\"\n",
       "                            OLS Regression Results                            \n",
       "==============================================================================\n",
       "Dep. Variable:               DisScore   R-squared:                       0.010\n",
       "Model:                            OLS   Adj. R-squared:                  0.009\n",
       "Method:                 Least Squares   F-statistic:                     17.11\n",
       "Date:                Thu, 14 Dec 2017   Prob (F-statistic):           4.01e-08\n",
       "Time:                        18:01:50   Log-Likelihood:                -9404.7\n",
       "No. Observations:                3545   AIC:                         1.882e+04\n",
       "Df Residuals:                    3542   BIC:                         1.883e+04\n",
       "Df Model:                           2                                         \n",
       "Covariance Type:            nonrobust                                         \n",
       "==============================================================================\n",
       "                 coef    std err          t      P>|t|      [0.025      0.975]\n",
       "------------------------------------------------------------------------------\n",
       "const          6.9679      0.629     11.081      0.000       5.735       8.201\n",
       "indobyr       -0.0578      0.010     -5.848      0.000      -0.077      -0.038\n",
       "iasinc     -4.538e-06    2.2e-06     -2.067      0.039   -8.84e-06   -2.35e-07\n",
       "==============================================================================\n",
       "Omnibus:                      896.467   Durbin-Watson:                   1.950\n",
       "Prob(Omnibus):                  0.000   Jarque-Bera (JB):             2189.966\n",
       "Skew:                           1.385   Prob(JB):                         0.00\n",
       "Kurtosis:                       5.674   Cond. No.                     4.33e+05\n",
       "==============================================================================\n",
       "\n",
       "Warnings:\n",
       "[1] Standard Errors assume that the covariance matrix of the errors is correctly specified.\n",
       "[2] The condition number is large, 4.33e+05. This might indicate that there are\n",
       "strong multicollinearity or other numerical problems.\n",
       "\"\"\""
      ]
     },
     "execution_count": 356,
     "metadata": {},
     "output_type": "execute_result"
    }
   ],
   "source": [
    "Bmodel.summary()"
   ]
  },
  {
   "cell_type": "markdown",
   "metadata": {},
   "source": [
    "### NULL HYPOTHESIS: the ratio of female experienced discrimination is the same or lower than male in this survey, at significance level p=0.05."
   ]
  },
  {
   "cell_type": "code",
   "execution_count": 410,
   "metadata": {
    "collapsed": true
   },
   "outputs": [],
   "source": [
    "alpha = 0.05"
   ]
  },
  {
   "cell_type": "code",
   "execution_count": 411,
   "metadata": {},
   "outputs": [
    {
     "data": {
      "text/html": [
       "<div>\n",
       "<style>\n",
       "    .dataframe thead tr:only-child th {\n",
       "        text-align: right;\n",
       "    }\n",
       "\n",
       "    .dataframe thead th {\n",
       "        text-align: left;\n",
       "    }\n",
       "\n",
       "    .dataframe tbody tr th {\n",
       "        vertical-align: top;\n",
       "    }\n",
       "</style>\n",
       "<table border=\"1\" class=\"dataframe\">\n",
       "  <thead>\n",
       "    <tr style=\"text-align: right;\">\n",
       "      <th></th>\n",
       "      <th>indsex</th>\n",
       "      <th>indobyr</th>\n",
       "      <th>wpdes</th>\n",
       "      <th>iasinc</th>\n",
       "      <th>gender</th>\n",
       "      <th>race</th>\n",
       "      <th>age</th>\n",
       "      <th>weight</th>\n",
       "      <th>physical disability</th>\n",
       "      <th>appearance</th>\n",
       "      <th>sexual orientation</th>\n",
       "      <th>financial status</th>\n",
       "      <th>Other</th>\n",
       "      <th>featurescdtdre</th>\n",
       "      <th>featurescdtdst</th>\n",
       "      <th>featurescdtdcl</th>\n",
       "      <th>featurescdtdha</th>\n",
       "      <th>featurescdtddr</th>\n",
       "      <th>DisScore</th>\n",
       "    </tr>\n",
       "  </thead>\n",
       "  <tbody>\n",
       "    <tr>\n",
       "      <th>2</th>\n",
       "      <td>0</td>\n",
       "      <td>60</td>\n",
       "      <td>Employed</td>\n",
       "      <td>200.0</td>\n",
       "      <td>Not answered</td>\n",
       "      <td>Not answered</td>\n",
       "      <td>Not answered</td>\n",
       "      <td>Not answered</td>\n",
       "      <td>Not answered</td>\n",
       "      <td>Not answered</td>\n",
       "      <td>Not answered</td>\n",
       "      <td>Not answered</td>\n",
       "      <td>Not answered</td>\n",
       "      <td>0.0</td>\n",
       "      <td>0.0</td>\n",
       "      <td>0.0</td>\n",
       "      <td>0.0</td>\n",
       "      <td>0.0</td>\n",
       "      <td>0.0</td>\n",
       "    </tr>\n",
       "    <tr>\n",
       "      <th>3</th>\n",
       "      <td>0</td>\n",
       "      <td>63</td>\n",
       "      <td>Employed</td>\n",
       "      <td>18686.0</td>\n",
       "      <td>Not answered</td>\n",
       "      <td>Not answered</td>\n",
       "      <td>Not answered</td>\n",
       "      <td>Not answered</td>\n",
       "      <td>Not answered</td>\n",
       "      <td>Not answered</td>\n",
       "      <td>Not answered</td>\n",
       "      <td>Not answered</td>\n",
       "      <td>Not answered</td>\n",
       "      <td>0.0</td>\n",
       "      <td>0.0</td>\n",
       "      <td>0.0</td>\n",
       "      <td>0.0</td>\n",
       "      <td>0.0</td>\n",
       "      <td>0.0</td>\n",
       "    </tr>\n",
       "    <tr>\n",
       "      <th>4</th>\n",
       "      <td>0</td>\n",
       "      <td>71</td>\n",
       "      <td>Retired</td>\n",
       "      <td>5000.0</td>\n",
       "      <td>Not answered</td>\n",
       "      <td>Not answered</td>\n",
       "      <td>Not answered</td>\n",
       "      <td>Not answered</td>\n",
       "      <td>Not answered</td>\n",
       "      <td>Not answered</td>\n",
       "      <td>Not answered</td>\n",
       "      <td>Not answered</td>\n",
       "      <td>Not answered</td>\n",
       "      <td>0.0</td>\n",
       "      <td>0.0</td>\n",
       "      <td>0.0</td>\n",
       "      <td>0.0</td>\n",
       "      <td>0.0</td>\n",
       "      <td>0.0</td>\n",
       "    </tr>\n",
       "    <tr>\n",
       "      <th>5</th>\n",
       "      <td>0</td>\n",
       "      <td>64</td>\n",
       "      <td>Retired</td>\n",
       "      <td>38000.0</td>\n",
       "      <td>No</td>\n",
       "      <td>No</td>\n",
       "      <td>No</td>\n",
       "      <td>No</td>\n",
       "      <td>No</td>\n",
       "      <td>No</td>\n",
       "      <td>No</td>\n",
       "      <td>No</td>\n",
       "      <td>No</td>\n",
       "      <td>1.0</td>\n",
       "      <td>0.0</td>\n",
       "      <td>0.0</td>\n",
       "      <td>0.0</td>\n",
       "      <td>0.0</td>\n",
       "      <td>1.0</td>\n",
       "    </tr>\n",
       "    <tr>\n",
       "      <th>11</th>\n",
       "      <td>1</td>\n",
       "      <td>61</td>\n",
       "      <td>Employed</td>\n",
       "      <td>46000.0</td>\n",
       "      <td>No</td>\n",
       "      <td>No</td>\n",
       "      <td>No</td>\n",
       "      <td>No</td>\n",
       "      <td>No</td>\n",
       "      <td>No</td>\n",
       "      <td>No</td>\n",
       "      <td>No</td>\n",
       "      <td>No</td>\n",
       "      <td>2.0</td>\n",
       "      <td>0.0</td>\n",
       "      <td>0.0</td>\n",
       "      <td>0.0</td>\n",
       "      <td>0.0</td>\n",
       "      <td>2.0</td>\n",
       "    </tr>\n",
       "  </tbody>\n",
       "</table>\n",
       "</div>"
      ],
      "text/plain": [
       "    indsex  indobyr     wpdes   iasinc        gender          race  \\\n",
       "2        0       60  Employed    200.0  Not answered  Not answered   \n",
       "3        0       63  Employed  18686.0  Not answered  Not answered   \n",
       "4        0       71   Retired   5000.0  Not answered  Not answered   \n",
       "5        0       64   Retired  38000.0            No            No   \n",
       "11       1       61  Employed  46000.0            No            No   \n",
       "\n",
       "             age        weight physical disability    appearance  \\\n",
       "2   Not answered  Not answered        Not answered  Not answered   \n",
       "3   Not answered  Not answered        Not answered  Not answered   \n",
       "4   Not answered  Not answered        Not answered  Not answered   \n",
       "5             No            No                  No            No   \n",
       "11            No            No                  No            No   \n",
       "\n",
       "   sexual orientation financial status         Other  featurescdtdre  \\\n",
       "2        Not answered     Not answered  Not answered             0.0   \n",
       "3        Not answered     Not answered  Not answered             0.0   \n",
       "4        Not answered     Not answered  Not answered             0.0   \n",
       "5                  No               No            No             1.0   \n",
       "11                 No               No            No             2.0   \n",
       "\n",
       "    featurescdtdst  featurescdtdcl  featurescdtdha  featurescdtddr  DisScore  \n",
       "2              0.0             0.0             0.0             0.0       0.0  \n",
       "3              0.0             0.0             0.0             0.0       0.0  \n",
       "4              0.0             0.0             0.0             0.0       0.0  \n",
       "5              0.0             0.0             0.0             0.0       1.0  \n",
       "11             0.0             0.0             0.0             0.0       2.0  "
      ]
     },
     "execution_count": 411,
     "metadata": {},
     "output_type": "execute_result"
    }
   ],
   "source": [
    "finaldf.head(5)"
   ]
  },
  {
   "cell_type": "code",
   "execution_count": 412,
   "metadata": {
    "collapsed": true
   },
   "outputs": [],
   "source": [
    "Ztestdf = finaldf[['indsex','DisScore']]"
   ]
  },
  {
   "cell_type": "code",
   "execution_count": 413,
   "metadata": {
    "collapsed": true
   },
   "outputs": [],
   "source": [
    "n_0 = len(Ztestdf[Ztestdf.indsex == 0])\n",
    "n_1 = len(Ztestdf[Ztestdf.indsex == 1])\n",
    "Nt_0 = len(Ztestdf[(Ztestdf.indsex == 0) & (Ztestdf.DisScore >0)])\n",
    "Nt_1 = len(Ztestdf[(Ztestdf.indsex == 1) & (Ztestdf.DisScore >0)])"
   ]
  },
  {
   "cell_type": "code",
   "execution_count": 414,
   "metadata": {
    "scrolled": true
   },
   "outputs": [
    {
     "name": "stdout",
     "output_type": "stream",
     "text": [
      "('male sample:1674', 'female smaple:1871')\n"
     ]
    }
   ],
   "source": [
    "print('male sample:%d'%n_0, 'female smaple:%d'%n_1)"
   ]
  },
  {
   "cell_type": "code",
   "execution_count": 415,
   "metadata": {},
   "outputs": [
    {
     "name": "stdout",
     "output_type": "stream",
     "text": [
      "Perceived discrimination counts in men: 1243\n",
      "Perceived discrimination counts in women: 1316\n"
     ]
    }
   ],
   "source": [
    "print('Perceived discrimination counts in men: %d'%Nt_0)\n",
    "print('Perceived discrimination counts in women: %d'%Nt_1)"
   ]
  },
  {
   "cell_type": "code",
   "execution_count": 416,
   "metadata": {},
   "outputs": [
    {
     "name": "stdout",
     "output_type": "stream",
     "text": [
      "test standard deviation error: 0.0150747757\n"
     ]
    }
   ],
   "source": [
    "def stdev(p, n):\n",
    "    x = np.sqrt(p * ( 1 - p ) / n[0] +  p * ( 1 - p ) / n[1])\n",
    "    return x\n",
    "sp_stdev_2y = stdev((float(Nt_0) + Nt_1) / (n_0 + n_1), [n_0, n_1])\n",
    "print ( \"test standard deviation error: %.10f\"%sp_stdev_2y)"
   ]
  },
  {
   "cell_type": "code",
   "execution_count": 417,
   "metadata": {
    "collapsed": true
   },
   "outputs": [],
   "source": [
    "P_0 = len(Ztestdf[(Ztestdf.indsex == 0) & (Ztestdf.DisScore >0)]) / float(n_0)\n",
    "P_1 = len(Ztestdf[(Ztestdf.indsex == 1) & (Ztestdf.DisScore >0)]) / float(n_1)"
   ]
  },
  {
   "cell_type": "code",
   "execution_count": 421,
   "metadata": {},
   "outputs": [
    {
     "name": "stdout",
     "output_type": "stream",
     "text": [
      "z score for perceived discrimination: z = 2.598\n"
     ]
    }
   ],
   "source": [
    "def zscore(p0, p1, s):\n",
    "    score =(p0 - p1) / s\n",
    "    return score\n",
    "z_2y = zscore(P_0, P_1, sp_stdev_2y)\n",
    "print ('z score for perceived discrimination: z = %.3f'%z_2y)"
   ]
  },
  {
   "cell_type": "code",
   "execution_count": 407,
   "metadata": {
    "scrolled": false
   },
   "outputs": [
    {
     "data": {
      "image/jpeg": "[encoded data removed]",
      "text/plain": [
       "<IPython.core.display.Image object>"
      ]
     },
     "execution_count": 407,
     "metadata": {},
     "output_type": "execute_result"
    }
   ],
   "source": [
    "Image('http://intersci.ss.uci.edu/wiki/images/3/3a/Normal01.jpg')"
   ]
  },
  {
   "cell_type": "markdown",
   "metadata": {},
   "source": [
    "### if 1 - P < $\\alpha$  : reject H0"
   ]
  },
  {
   "cell_type": "code",
   "execution_count": 419,
   "metadata": {
    "scrolled": true
   },
   "outputs": [
    {
     "name": "stdout",
     "output_type": "stream",
     "text": [
      "is the p value 0.00 smaller than the critical value 0.05? \n",
      "YES!\n",
      "the Null hypothesis is rejected\n"
     ]
    }
   ],
   "source": [
    "#by search the table above, we use 0.9952\n",
    "p = 1 - 0.9952\n",
    "def report_result(p, a):\n",
    "    print ('is the p value {0:.2f} smaller than the critical value {1:.2f}? '.format(p,a))\n",
    "    if p<a:\n",
    "        print (\"YES!\")\n",
    "    else: print (\"NO!\")\n",
    "    \n",
    "    print ('the Null hypothesis is {}'.format( 'rejected' if p<a  else 'not rejected') )\n",
    "\n",
    "report_result(p, alpha)"
   ]
  },
  {
   "cell_type": "markdown",
   "metadata": {},
   "source": [
    "### We can conclude that female perceived more discrimination than male"
   ]
  },
  {
   "cell_type": "code",
   "execution_count": null,
   "metadata": {
    "collapsed": true
   },
   "outputs": [],
   "source": []
  }
 ],
 "metadata": {
  "kernelspec": {
   "display_name": "Python 2",
   "language": "python",
   "name": "python2"
  },
  "language_info": {
   "codemirror_mode": {
    "name": "ipython",
    "version": 2
   },
   "file_extension": ".py",
   "mimetype": "text/x-python",
   "name": "python",
   "nbconvert_exporter": "python",
   "pygments_lexer": "ipython2",
   "version": "2.7.13"
  }
 },
 "nbformat": 4,
 "nbformat_minor": 2
}
