{
 "cells": [
  {
   "cell_type": "markdown",
   "metadata": {},
   "source": [
    "![Alt text](HW8_Assignment_yt1369.png)"
   ]
  },
  {
   "cell_type": "markdown",
   "metadata": {},
   "source": [
    "## Review:\n",
    "\n",
    "#### CLARITY: \n",
    "* Title clearly shows the key messages of this map. The numerical range of EUI represented by each color is shown in the legends. Boundaries of the zip code areas are distinctly labeled. \n",
    "* the map seems to be slightly compressed in the longitudinal direction, but this does not disturb the conveyance of the major information on the zip-code-wise distribution of site EUI of buildings. \n",
    "* A brief definition of Site EUI might be needed if the reader does not have any prior knowledge of building energy terminology. \n",
    "* the description would be clearer if 25%, 50%, 75% can be rephrased as first, second and third quartile, and “the entire city” as “the Site EUI distribution of the entire city”. \n",
    "\n",
    "#### AESTHETIC: \n",
    "* Since Site EUI is a continuous range, the representation would be more intuitive if the chosen colors are within the same spectrum. For example, the higher EUI values correspond to darker red, lower EUI values with paler red. \n",
    "* No exaggerated waste of space. \n",
    "* No unnecessary decorative graphic effects. No distractions in the plot. \n",
    "#### HONESTY: \n",
    "* The plot honestly demonstrates the spatial distribution of Site EUI in New York City in 2014 and no deformation or distortion are done to emphasize a certain feature. "
   ]
  },
  {
   "cell_type": "code",
   "execution_count": null,
   "metadata": {},
   "outputs": [],
   "source": []
  }
 ],
 "metadata": {
  "kernelspec": {
   "display_name": "PUI2016_Python2",
   "language": "python",
   "name": "pui2016_python2"
  },
  "language_info": {
   "codemirror_mode": {
    "name": "ipython",
    "version": 2
   },
   "file_extension": ".py",
   "mimetype": "text/x-python",
   "name": "python",
   "nbconvert_exporter": "python",
   "pygments_lexer": "ipython2",
   "version": "2.7.12"
  }
 },
 "nbformat": 4,
 "nbformat_minor": 2
}
