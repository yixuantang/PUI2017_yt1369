{
 "cells": [
  {
   "cell_type": "code",
   "execution_count": 5,
   "metadata": {
    "collapsed": false
   },
   "outputs": [
    {
     "ename": "KeyError",
     "evalue": "'VehicleActivity'",
     "output_type": "error",
     "traceback": [
      "\u001b[1;31m---------------------------------------------------------------------------\u001b[0m",
      "\u001b[1;31mKeyError\u001b[0m                                  Traceback (most recent call last)",
      "\u001b[1;32m<ipython-input-5-dd23640b4fb9>\u001b[0m in \u001b[0;36m<module>\u001b[1;34m()\u001b[0m\n\u001b[0;32m     18\u001b[0m \u001b[0mdata\u001b[0m \u001b[1;33m=\u001b[0m \u001b[0mjson\u001b[0m\u001b[1;33m.\u001b[0m\u001b[0mloads\u001b[0m\u001b[1;33m(\u001b[0m\u001b[0mdata\u001b[0m\u001b[1;33m)\u001b[0m\u001b[1;33m\u001b[0m\u001b[0m\n\u001b[0;32m     19\u001b[0m \u001b[1;33m\u001b[0m\u001b[0m\n\u001b[1;32m---> 20\u001b[1;33m \u001b[0mactivity\u001b[0m \u001b[1;33m=\u001b[0m \u001b[0mdata\u001b[0m\u001b[1;33m[\u001b[0m\u001b[1;34m'Siri'\u001b[0m\u001b[1;33m]\u001b[0m\u001b[1;33m[\u001b[0m\u001b[1;34m'ServiceDelivery'\u001b[0m\u001b[1;33m]\u001b[0m\u001b[1;33m[\u001b[0m\u001b[1;34m'VehicleMonitoringDelivery'\u001b[0m\u001b[1;33m]\u001b[0m\u001b[1;33m[\u001b[0m\u001b[1;36m0\u001b[0m\u001b[1;33m]\u001b[0m\u001b[1;33m[\u001b[0m\u001b[1;34m'VehicleActivity'\u001b[0m\u001b[1;33m]\u001b[0m\u001b[1;33m\u001b[0m\u001b[0m\n\u001b[0m\u001b[0;32m     21\u001b[0m \u001b[0mnumber\u001b[0m \u001b[1;33m=\u001b[0m \u001b[0mlen\u001b[0m\u001b[1;33m(\u001b[0m\u001b[0mactivity\u001b[0m\u001b[1;33m)\u001b[0m\u001b[1;33m\u001b[0m\u001b[0m\n\u001b[0;32m     22\u001b[0m \u001b[0mNumber\u001b[0m \u001b[1;33m=\u001b[0m \u001b[0mstr\u001b[0m\u001b[1;33m(\u001b[0m\u001b[0mnumber\u001b[0m\u001b[1;33m)\u001b[0m\u001b[1;33m\u001b[0m\u001b[0m\n",
      "\u001b[1;31mKeyError\u001b[0m: 'VehicleActivity'"
     ]
    },
    {
     "name": "stderr",
     "output_type": "stream",
     "text": [
      "ERROR:tornado.application:Exception in callback <functools.partial object at 0x7fc19a929d60>\n",
      "Traceback (most recent call last):\n",
      "  File \"/opt/rh/anaconda/root/lib/python2.7/site-packages/tornado/ioloop.py\", line 604, in _run_callback\n",
      "    ret = callback()\n",
      "  File \"/opt/rh/anaconda/root/lib/python2.7/site-packages/tornado/stack_context.py\", line 275, in null_wrapper\n",
      "    return fn(*args, **kwargs)\n",
      "  File \"/opt/rh/anaconda/root/lib/python2.7/site-packages/ipykernel/kernelbase.py\", line 242, in enter_eventloop\n",
      "    self.eventloop(self)\n",
      "  File \"/opt/rh/anaconda/root/lib/python2.7/site-packages/ipykernel/eventloops.py\", line 163, in loop_tk\n",
      "    kernel.timer = Timer(doi)\n",
      "  File \"/opt/rh/anaconda/root/lib/python2.7/site-packages/ipykernel/eventloops.py\", line 151, in __init__\n",
      "    self.app = Tk()\n",
      "  File \"/opt/rh/anaconda/root/lib/python2.7/lib-tk/Tkinter.py\", line 1814, in __init__\n",
      "    self.tk = _tkinter.create(screenName, baseName, className, interactive, wantobjects, useTk, sync, use)\n",
      "TclError: no display name and no $DISPLAY environment variable\n"
     ]
    }
   ],
   "source": [
    "\n",
    "# coding: utf-8\n",
    "\n",
    "# In[ ]:\n",
    "\n",
    "from __future__ import print_function\n",
    "import csv\n",
    "import pylab as pl\n",
    "import os\n",
    "import json\n",
    "import sys\n",
    "import urllib as url\n",
    "\n",
    "resource = \"http://bustime.mta.info/api/siri/vehicle-monitoring.json?key=\" + sys.argv[1] + \"&VehicleMonitoringDetailLevel=calls&LineRef=\" + sys.argv[2]\n",
    "\n",
    "response = url.urlopen(resource)\n",
    "data = response.read().decode(\"utf-8\")\n",
    "data = json.loads(data)\n",
    "\n",
    "activity = data['Siri']['ServiceDelivery']['VehicleMonitoringDelivery'][0]['VehicleActivity']\n",
    "number = len(activity)\n",
    "Number = str(number)\n",
    "filename = sys.argv[3]\n",
    "f = open(filename,'wb')\n",
    "writer = csv.writer(f)\n",
    "writer.writerow([\"Latitude\",\"Longitude\",\"Stop Name\",\"Stop Status\"])\n",
    "for i in range(number):\n",
    "    try :\n",
    "        stopname = activity[i]['MonitoredVehicleJourney']['OnwardCalls']['OnwardCall'][0]['StopPointName']  \n",
    "        stopstatus = activity[i]['MonitoredVehicleJourney']['OnwardCalls']['OnwardCall'][0]['Extensions']['Distances']['PresentableDistance']\n",
    "    except KeyError:\n",
    "        stopname = \"N/A\"\n",
    "        stopstatus = \"N/A\"\n",
    "    latitude = activity[i]['MonitoredVehicleJourney']['VehicleLocation']['Latitude']\n",
    "    longitude = activity[i]['MonitoredVehicleJourney']['VehicleLocation']['Longitude']\n",
    "     \n",
    "    writer.writerow([latitude,longitude,stopname,stopstatus])\n",
    "f.close()\n",
    "\n",
    "r = open(filename,'rb')\n",
    "reader = csv.reader(r)\n",
    "for row in reader:\n",
    "    print (row)\n",
    "r.close()\n"
   ]
  },
  {
   "cell_type": "code",
   "execution_count": null,
   "metadata": {
    "collapsed": true
   },
   "outputs": [],
   "source": []
  }
 ],
 "metadata": {
  "kernelspec": {
   "display_name": "Python 2",
   "language": "python",
   "name": "python2"
  },
  "language_info": {
   "codemirror_mode": {
    "name": "ipython",
    "version": 2
   },
   "file_extension": ".py",
   "mimetype": "text/x-python",
   "name": "python",
   "nbconvert_exporter": "python",
   "pygments_lexer": "ipython2",
   "version": "2.7.11"
  }
 },
 "nbformat": 4,
 "nbformat_minor": 0
}
